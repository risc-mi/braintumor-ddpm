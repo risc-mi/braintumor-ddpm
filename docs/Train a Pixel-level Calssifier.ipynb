{
 "cells": [
  {
   "cell_type": "markdown",
   "id": "f5c8df84",
   "metadata": {},
   "source": [
    "## Train a Pixel-level Classifier\n",
    "\n",
    "In this notebook, we show a quick way to train a downstream classifier based on learned representations from a trained ddpm model."
   ]
  },
  {
   "cell_type": "code",
   "execution_count": null,
   "id": "1338f113",
   "metadata": {},
   "outputs": [],
   "source": [
    "import os\n",
    "import sys\n",
    "\n",
    "# Add braintumor_ddpm to path\n",
    "sys.path.append(os.path.dirname(os.getcwd()))\n",
    "\n",
    "# braintumor_ddpm imports for training a pixel-level classifeir\n",
    "from braintumor_ddpm.insights.evaluator import NiftiEvaluator\n",
    "from braintumor_ddpm.data.datasets import SegmentationDataset\n",
    "from braintumor_ddpm.core.networks.pixel_classifier import PixelClassifier\n",
    "from braintumor_ddpm.core.training.PixelRepresentationsTrainer import PixelRepresentationsTrainer"
   ]
  },
  {
   "cell_type": "code",
   "execution_count": null,
   "id": "30c91ed1",
   "metadata": {},
   "outputs": [],
   "source": [
    "# Define some parameters\n",
    "train_size = 10\n",
    "images_dir = r\"PATH TO SCANS\"\n",
    "labels_dir = r\"PATH TO LABELS/MASKS\"\n",
    "labels ={\n",
    "    'Background': 0,\n",
    "    'Non-Enhancing Tumor': 1,\n",
    "    'Tumor Core': 2,\n",
    "    'Enhancing Tumor': 3\n",
    "    }\n",
    "output_folder = r\"PATH POINTING TO OUTPUT OR CACHE FOLDER\"\n",
    "trained_ddpm_path = r\"PATH TO THE TRAINED DIFFUSION MODEL\"\n",
    "\n",
    "# Create output folder\n",
    "output_folder = os.path.join(output_folder, f\"DenoiseNetwork Experiment - {train_size} Samples\")\n",
    "os.makedirs(output_folder, exist_ok=True)"
   ]
  },
  {
   "cell_type": "code",
   "execution_count": null,
   "id": "7a5f157a",
   "metadata": {},
   "outputs": [],
   "source": [
    "# define a pixel-level classifier\n",
    "pixel_classifier = PixelClassifier(ddpm_model_path=trained_ddpm_path,\n",
    "                                   layers=[16, 17, 18],\n",
    "                                   time_steps=[200])\n",
    "\n",
    "# define the trainer class\n",
    "trainer = PixelRepresentationsTrainer(network=pixel_classifier,\n",
    "                                      output_folder=output_folder,\n",
    "                                      images_dir=images_dir,\n",
    "                                      labels_dir=labels_dir,\n",
    "                                      train_size=train_size,\n",
    "                                      seed=16,\n",
    "                                      labels=labels\n",
    "                                     )"
   ]
  },
  {
   "cell_type": "code",
   "execution_count": null,
   "id": "6082f2c2",
   "metadata": {},
   "outputs": [],
   "source": [
    "# adjust some parameters for the trainer\n",
    "trainer.set_maximum_epochs(8)\n",
    "trainer.set_initial_lr(0.0001)\n",
    "trainer.initialize()\n",
    "trainer.run_training()"
   ]
  },
  {
   "cell_type": "code",
   "execution_count": null,
   "id": "1e39a91e",
   "metadata": {},
   "outputs": [],
   "source": [
    "# start training\n",
    "trainer.run_training()"
   ]
  },
  {
   "cell_type": "code",
   "execution_count": null,
   "id": "2d2b3520",
   "metadata": {},
   "outputs": [],
   "source": [
    "pred_dir = r\"PATH TO EXPORTED NIFTI PREDICTIONS\"\n",
    "gt_dir = r\"PATH TO GT FILES\"\n",
    "\n",
    "# set-up evaluator and run evaluation\n",
    "evaluator = NiftiEvaluator(predictions=pred_dir, references=gt_dir,labels=labels)\n",
    "evaluator.evaluate_folders(output_folder)"
   ]
  }
 ],
 "metadata": {
  "kernelspec": {
   "display_name": "Python 3 (ipykernel)",
   "language": "python",
   "name": "python3"
  },
  "language_info": {
   "codemirror_mode": {
    "name": "ipython",
    "version": 3
   },
   "file_extension": ".py",
   "mimetype": "text/x-python",
   "name": "python",
   "nbconvert_exporter": "python",
   "pygments_lexer": "ipython3",
   "version": "3.8.17"
  }
 },
 "nbformat": 4,
 "nbformat_minor": 5
}
